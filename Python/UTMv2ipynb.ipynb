{
 "cells": [
  {
   "cell_type": "markdown",
   "metadata": {},
   "source": [
    "### Ежемесячная выгрузка на основе UTM размеченных ссылок\n",
    "Скрипт забирает по АПИ Яндекс Метрики данные для списка сайтов, размеченные определенными UTM метками и сводит в единую экслеь таблицу определенного формата. \n",
    "Часть данных нестандартизированна, поэтому обрабатывается отдельными запросами вне цикла. \n",
    "Скрипт частично отредактирован, так как содержит данные заказчика."
   ]
  },
  {
   "cell_type": "code",
   "execution_count": 1,
   "metadata": {},
   "outputs": [],
   "source": [
    "import pandas as pd\n",
    "import requests\n",
    "import json\n",
    "\n",
    "startDate = '2021-02-01' \n",
    "endDate = '2021-02-28'\n",
    "\n",
    "projects = [ # список списков формата [\"название сайта\", \"номер счетчика\"]\n",
    "                ]"
   ]
  },
  {
   "cell_type": "code",
   "execution_count": 2,
   "metadata": {},
   "outputs": [],
   "source": [
    "def collect_data(data, utm_source):\n",
    "    \"\"\"\n",
    "    Цель - собрать данные по UTM метке для ответа из АПИ для конкретного счетчика\n",
    "    \"\"\"\n",
    "    new_list = []\n",
    "    \n",
    "    for counter in data:\n",
    "        n = 0\n",
    "        try:\n",
    "            for metric in counter['data']:\n",
    "                if {'name': utm_source} in metric['dimensions']:\n",
    "                    n = metric['metrics'][0]\n",
    "        except: n = 9999 # в случае ошибки ответа срипта, значение закрывается болванкой\n",
    "        new_list.append(n)\n",
    "    return new_list\n"
   ]
  },
  {
   "cell_type": "markdown",
   "metadata": {},
   "source": [
    "# UTM Capmpaign = XXXXX\n"
   ]
  },
  {
   "cell_type": "code",
   "execution_count": 3,
   "metadata": {},
   "outputs": [],
   "source": [
    "# UTM Capmpaign = COMMUNITITES_1MI\n",
    "\n",
    "api_response = []\n",
    "for project, counter in projects:\n",
    "\n",
    "    # ТЕСТОВЫЙ ЗАПРОС В API ЯНДЕКС МЕТРИКА\n",
    "    header = {'Authorization': #TOKEN }\n",
    "    payload = {\n",
    "        'metrics': 'ym:s:visits',\n",
    "        'dimensions': ['ym:s:UTMCampaign','ym:s:UTMSource'],\n",
    "        'date1': startDate,\n",
    "        'date2': endDate,\n",
    "        'accuracy': '1',\n",
    "        'attribution': 'last',\n",
    "        'filters': \"ym:s:UTMCampaign=='XXXXX'\",\n",
    "        'ids': counter\n",
    "        }\n",
    "\n",
    "    r = requests.get('https://api-metrika.yandex.ru/stat/v1/data', params=payload, headers=header)\n",
    "    response = json.loads(r.content)\n",
    "    api_response.append(response)\n",
    "    \n",
    "    if 'totals' not in response.keys():\n",
    "        print(project, counter, '\\n', response)"
   ]
  },
  {
   "cell_type": "code",
   "execution_count": null,
   "metadata": {},
   "outputs": [],
   "source": [
    "df = pd.DataFrame({#'Сайт': [counter[0] for counter in projects],\n",
    "            'Все группы в соцсетях*': [counter['totals'][0] if 'totals' in counter.keys() else 9999 for counter in api_response],\n",
    "            'Вконтакте': collect_data(api_response, 'vk.com'),\n",
    "            'Facebook': collect_data(api_response, 'facebook.com'),\n",
    "            'Одноклассники': collect_data(api_response, 'ok.ru'),\n",
    "            'Twitter': collect_data(api_response, 'twitter.com'),\n",
    "            'Instagram': collect_data(api_response, 'instagram.com'),\n",
    "            'Telegram': collect_data(api_response, 'telegram'), \n",
    "            'Яндекс.Район': collect_data(api_response, 'yandex_rayon')\n",
    "             }, index=[counter[0] for counter in projects])\n",
    "\n",
    "df['Все группы в соцсетях*'] = df['Все группы в соцсетях*'] - df['Яндекс.Район']\n",
    "\n",
    "payload = { #'ААААА' }\n",
    "r = requests.get('https://api-metrika.yandex.ru/stat/v1/data', params=payload, headers=header)\n",
    "response = json.loads(r.content)\n",
    "aaaaa = response['totals'][0]\n",
    "\n",
    "payload = { #'БББББ' }    \n",
    "r = requests.get('https://api-metrika.yandex.ru/stat/v1/data', params=payload, headers=header)\n",
    "response = json.loads(r.content)\n",
    "bbbbb = response['totals'][0]\n",
    "\n",
    "extra_gorod = pd.DataFrame({\n",
    "            'Все группы в соцсетях*': [None, None],\n",
    "            'Вконтакте': [None, None],\n",
    "            'Facebook': [None, None],\n",
    "            'Одноклассники': [aaaaa, bbbbb],\n",
    "            'Twitter': [None, None],\n",
    "            'Instagram': [None, None],\n",
    "            'Telegram': [None, None], \n",
    "            'Яндекс.Район': [None, None]\n",
    "             }, index=['ААААА', 'БББББ'])\n",
    "\n",
    "df = pd.concat([df, extra_gorod], ignore_index=False)\n",
    "\n",
    "df = df.reindex( # СПИСОК НАИМЕНОВАНИЯ САЙТОВ )\n",
    "\n",
    "df.to_excel(f'UTM.xlsx')\n",
    "df"
   ]
  }
 ],
 "metadata": {
  "kernelspec": {
   "display_name": "Python 3",
   "language": "python",
   "name": "python3"
  },
  "language_info": {
   "codemirror_mode": {
    "name": "ipython",
    "version": 3
   },
   "file_extension": ".py",
   "mimetype": "text/x-python",
   "name": "python",
   "nbconvert_exporter": "python",
   "pygments_lexer": "ipython3",
   "version": "3.8.3"
  }
 },
 "nbformat": 4,
 "nbformat_minor": 4
}
